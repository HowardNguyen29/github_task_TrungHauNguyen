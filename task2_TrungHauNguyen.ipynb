{
 "cells": [
  {
   "cell_type": "code",
   "execution_count": 7,
   "id": "94ad0590",
   "metadata": {},
   "outputs": [],
   "source": [
    "import os\n",
    "import requests\n",
    "import re\n",
    "import sys"
   ]
  },
  {
   "cell_type": "code",
   "execution_count": 8,
   "id": "ad68af6b",
   "metadata": {},
   "outputs": [],
   "source": [
    "from bs4 import BeautifulSoup "
   ]
  },
  {
   "cell_type": "code",
   "execution_count": 9,
   "id": "ac108eb0",
   "metadata": {},
   "outputs": [],
   "source": [
    "# function to get the html source text of the medium article\n",
    "def get_page():\n",
    "\tglobal url\n",
    "\t\n",
    "\t# Code here - Ask the user to input \"Enter url of a medium article: \" and collect it in url\n",
    "\turl = input(\"Enter the URL of a Medium article: \")\n",
    "\t# Code ends here\n",
    "\t\n",
    "\t# handling possible error\n",
    "\tif not re.match(r'https?://medium.com/',url):\n",
    "\t\tprint('Please enter a valid website, or make sure it is a medium article')\n",
    "\t\tsys.exit(1)\n",
    "\n",
    "\t# Code here - Call get method in requests object, pass url and collect it in res\n",
    "\tres = requests.get(url)\n",
    "\t# Code ends here\n",
    "\n",
    "\tres.raise_for_status()\n",
    "\tsoup = BeautifulSoup(res.text, 'html.parser')\n",
    "\treturn soup"
   ]
  },
  {
   "cell_type": "code",
   "execution_count": 10,
   "id": "0a0b24b7",
   "metadata": {},
   "outputs": [],
   "source": [
    "# function to remove all the html tags and replace some with specific strings\n",
    "def clean(text):\n",
    "    rep = {\"<br>\": \"\\n\", \"<br/>\": \"\\n\", \"<li>\":  \"\\n\"}\n",
    "    rep = dict((re.escape(k), v) for k, v in rep.items()) \n",
    "    pattern = re.compile(\"|\".join(rep.keys()))\n",
    "    text = pattern.sub(lambda m: rep[re.escape(m.group(0))], text)\n",
    "    text = re.sub('\\<(.*?)\\>', '', text)\n",
    "    return text"
   ]
  },
  {
   "cell_type": "code",
   "execution_count": 11,
   "id": "618f7dc0",
   "metadata": {},
   "outputs": [],
   "source": [
    "def collect_text(soup):\n",
    "\ttext = f'url: {url}\\n\\n'\n",
    "\tpara_text = soup.find_all('p')\n",
    "\tprint(f\"paragraphs text = \\n {para_text}\")\n",
    "\tfor para in para_text:\n",
    "\t\ttext += f\"{para.text}\\n\\n\"\n",
    "\treturn text"
   ]
  },
  {
   "cell_type": "code",
   "execution_count": 12,
   "id": "7a959022",
   "metadata": {},
   "outputs": [],
   "source": [
    "# function to save file in the current directory\n",
    "def save_file(text):\n",
    "\tif not os.path.exists('./scraped_articles'):\n",
    "\t\tos.mkdir('./scraped_articles')\n",
    "\tname = url.split(\"/\")[-1]\n",
    "\tpwd = os.getcwd()\n",
    "\tprint(name)\n",
    "\tfname = pwd + f'/scraped_articles/{name}.txt'\n",
    "\t\n",
    "\t# Code here - write a file using with (2 lines)\n",
    "\twith open(fname, 'w') as file:\n",
    "\t\tfile.write(text)\n",
    "\t# Code ends here\n",
    "\n",
    "\n",
    "\tprint(f'File saved in directory {fname}')"
   ]
  },
  {
   "cell_type": "code",
   "execution_count": 13,
   "id": "d45584a0",
   "metadata": {},
   "outputs": [
    {
     "name": "stdout",
     "output_type": "stream",
     "text": [
      "Enter the URL of a Medium article: https://medium.com/onebigthought/leadership-is-a-research-project-be0a2fda616f\n",
      "paragraphs text = \n",
      " [<p class=\"be b gw gx bj\"><a class=\"af ag ah ai aj ak al am an ao ap aq ar gy\" data-testid=\"authorName\" href=\"/@juddantin?source=post_page-----be0a2fda616f--------------------------------\" rel=\"noopener follow\">Judd Antin</a></p>, <p class=\"be b gw gx hb\"><span><a class=\"hc hd ah ai aj ak al am an ao ap aq ar he hf hg\" href=\"/m/signin?actionUrl=https%3A%2F%2Fmedium.com%2F_%2Fsubscribe%2Fuser%2Fa16a62d3dca5&amp;operation=register&amp;redirect=https%3A%2F%2Fmedium.com%2Fonebigthought%2Fleadership-is-a-research-project-be0a2fda616f&amp;user=Judd+Antin&amp;userId=a16a62d3dca5&amp;source=post_page-a16a62d3dca5----be0a2fda616f---------------------post_header-----------\" rel=\"noopener follow\">Follow</a></span></p>, <p class=\"be b bf z hp hq hr hs ht hu hv hw bj\">One Big Thought</p>, <p class=\"be b kc z hb\"><span class=\"jm\">--</span></p>, <p class=\"be b kc z hb\"><span class=\"pw-responses-count kd ke\">39</span></p>, <p class=\"be b bf z hb\">Listen</p>, <p class=\"be b bf z hb\">Share</p>, <p class=\"pw-post-body-paragraph ld le ev lf b lg lh li lj lk ll lm ln lo lp lq lr ls lt lu lv lw lx ly lz ma eo bj\" id=\"8fb3\"><em class=\"mb\">Update: As promised, here is the (abridged) course </em><a class=\"af mc\" href=\"https://drive.google.com/file/d/1axvX1v4Hrqkve9fhJYvUBHIzKq3fhnxG/view?usp=sharing\" rel=\"noopener ugc nofollow\" target=\"_blank\"><em class=\"mb\">syllabus</em></a><em class=\"mb\"> for those who are interested!</em></p>, <p class=\"pw-post-body-paragraph ld le ev lf b lg lh li lj lk ll lm ln lo lp lq lr ls lt lu lv lw lx ly lz ma eo bj\" id=\"0f4d\">This semester they’re letting me teach a course on leadership at UC Berkeley’s School of Information. <em class=\"mb\">I know, right? </em>I’m pretty dern excited to be doing it, but I can tell you, putting this course together has been a daunting task.</p>, <p class=\"pw-post-body-paragraph ld le ev lf b lg lh li lj lk ll lm ln lo lp lq lr ls lt lu lv lw lx ly lz ma eo bj\" id=\"af0d\">How does one distill so much available leadership material into something useful? Material which is broadly applicable across disciplines and industries. Which captures a practical POV — mostly mine, but also borrowed from mentors, teachers, and colleagues — without being overly prescriptive. And which gives students a (hopefully) strong foundation for successful leadership and growth.</p>, <p class=\"pw-post-body-paragraph ld le ev lf b lg lh li lj lk ll lm ln lo lp lq lr ls lt lu lv lw lx ly lz ma eo bj\" id=\"3efb\"><em class=\"mb\">Ugh. Unreasonably high bar. Trip. Fall. Get up again.</em></p>, <p class=\"pw-post-body-paragraph ld le ev lf b lg lh li lj lk ll lm ln lo lp lq lr ls lt lu lv lw lx ly lz ma eo bj\" id=\"7279\">Now that classes are about to begin, though, I think I’ve got a reasonable handle on it. But nothing happens linearly. The best narratives are retrospective because the organizing principles are often implicit at first, like the pieces of a puzzle revealing the picture only as they’re assembled.</p>, <p class=\"pw-post-body-paragraph ld le ev lf b lg lh li lj lk ll lm ln lo lp lq lr ls lt lu lv lw lx ly lz ma eo bj\" id=\"cebe\">So, it’s only now that can I confidently state the main thesis of the course, which also happens to neatly capture the approach I practiced for more than a dozen years:</p>, <p class=\"me mf ev be mg mh mi mj mk ml mm ma hb\" id=\"19e4\">Leadership is a research project.</p>, <p class=\"pw-post-body-paragraph ld le ev lf b lg mn li lj lk mo lm ln lo mp lq lr ls mq lu lv lw mr ly lz ma eo bj\" id=\"ac80\">In fact, let’s just call it <strong class=\"lf ew\">The Project. </strong>It’s a little (<em class=\"mb\">lot?</em>) grandiose, I’ll grant you, but let’s go with it.</p>, <p class=\"pw-post-body-paragraph ld le ev lf b lg lh li lj lk ll lm ln lo lp lq lr ls lt lu lv lw lx ly lz ma eo bj\" id=\"a935\">The best leaders — regardless of seniority or role — are also tireless investigators of the humans around them. <strong class=\"lf ew\">Social dynamics get their constant attention, and are the key thing they use to do their jobs well</strong>. They build on existing knowledge rather than just relying on intuition. They use the insights they discover to guide, to communicate, and to decide. And they do that constantly, indefinitely.</p>, <p class=\"pw-post-body-paragraph ld le ev lf b lg os li lj lk ot lm ln lo ou lq lr ls ov lu lv lw ow ly lz ma eo bj\" id=\"0feb\">The idea that The Project should mostly be focused on humans is not as obvious as you might think. Many leaders want to be technical experts — highly knowledgeable about the exact topics that are required to build their product and their business — and thus focused on research there.</p>, <p class=\"pw-post-body-paragraph ld le ev lf b lg lh li lj lk ll lm ln lo lp lq lr ls lt lu lv lw lx ly lz ma eo bj\" id=\"e5f7\">We tend to deify the subject-matter expert (SME) leader, but it’s hardly required. And in fact it can be a damaging distraction. I’ve had experience with SME leaders who thought staying close to the product was their primary virtue. In fact, they were so lost in the weeds they forgot to spend time on, you know… leading.</p>, <p class=\"pw-post-body-paragraph ld le ev lf b lg lh li lj lk ll lm ln lo lp lq lr ls lt lu lv lw lx ly lz ma eo bj\" id=\"0c40\">Another celebrated leadership narrative is that its all about vision and innovation. Leadership research should be focused on markets, competitors, and strategy. I’d agree those things are important. But good leaders invent vision very rarely, bad ones cause chaos and waste by reinventing it constantly. Innovation is a part-time job but execution is a full-time job.</p>, <p class=\"pw-post-body-paragraph ld le ev lf b lg lh li lj lk ll lm ln lo lp lq lr ls lt lu lv lw lx ly lz ma eo bj\" id=\"fdc6\">And execution is what The Project is about. Technical excellence, vision, and innovation to a small degree, and helping teams of people to do great things to a large degree.</p>, <p class=\"pw-post-body-paragraph ld le ev lf b lg lh li lj lk ll lm ln lo lp lq lr ls lt lu lv lw lx ly lz ma eo bj\" id=\"5e62\">The key argument here is that The Project is what separates good leaders from bad. It isn’t just knowing how social dynamics work but knowing how to leverage them to make things happen faster, better, more smoothly, together. It’s having the curiosity and the humility to bring others to the forefront of how you lead.</p>, <p class=\"pw-post-body-paragraph ld le ev lf b lg os li lj lk ot lm ln lo ou lq lr ls ov lu lv lw ow ly lz ma eo bj\" id=\"8196\"><em class=\"mb\">What are we researching again?</em> People. Right. Our bosses, reports, and colleagues. But what is it that we want to know?</p>, <p class=\"pw-post-body-paragraph ld le ev lf b lg lh li lj lk ll lm ln lo lp lq lr ls lt lu lv lw lx ly lz ma eo bj\" id=\"f78e\">Certainly engaged leaders should get to know their work-mates on a personal level because (as countless seminars have dutifully explained) investment in authentic personal relationships builds trust and improves communication.</p>, <p class=\"pw-post-body-paragraph ld le ev lf b lg lh li lj lk ll lm ln lo lp lq lr ls lt lu lv lw lx ly lz ma eo bj\" id=\"f8d8\">But The Project goes much deeper. As a leader, we need to learn about our colleagues’ histories, their goals. What’s hard about their jobs? What do they love? What keeps them up at night? We need to know these things to effectively guide, support, and communicate. Helping people grow, guiding round pegs towards round holes requires us to know.</p>, <p class=\"pw-post-body-paragraph ld le ev lf b lg lh li lj lk ll lm ln lo lp lq lr ls lt lu lv lw lx ly lz ma eo bj\" id=\"cf36\">We also need to look into interpersonal dynamics, including the ones that happen when we’re not around. Who works well with whom? Which skills and approaches are complementary? Who can combine to make a great team? Are there rivalries, animosities, friendships, and favorites? Where do they come from?</p>, <p class=\"pw-post-body-paragraph ld le ev lf b lg lh li lj lk ll lm ln lo lp lq lr ls lt lu lv lw lx ly lz ma eo bj\" id=\"4b63\">Communication is a crucial input to the The Project. How do our colleagues talk to us and to each other? How do they frame their ideas, and what drives those framings? What is their approach to groups — to meetings, to collaborative decisions, and teamwork?</p>, <p class=\"pw-post-body-paragraph ld le ev lf b lg lh li lj lk ll lm ln lo lp lq lr ls lt lu lv lw lx ly lz ma eo bj\" id=\"6cb3\">So much to learn, so little time! Good thing we don’t have to start from scratch.</p>, <p class=\"pw-post-body-paragraph ld le ev lf b lg os li lj lk ot lm ln lo ou lq lr ls ov lu lv lw ow ly lz ma eo bj\" id=\"b860\">Good research never starts in a vacuum. We’re standing on the shoulders of giants. We’re using insights, tools, methods, and approaches that have been refined over decades. And we’re fitting our evidence into frameworks that help us make sense of it.</p>, <p class=\"pw-post-body-paragraph ld le ev lf b lg lh li lj lk ll lm ln lo lp lq lr ls lt lu lv lw lx ly lz ma eo bj\" id=\"ebff\">And that’s how (whether I knew it or not at the time) I built this syllabus. What do we need to know in order to dive into The Project — to ask better questions, more effectively understand the answers, and then take action?</p>, <p class=\"pw-post-body-paragraph ld le ev lf b lg lh li lj lk ll lm ln lo lp lq lr ls lt lu lv lw lx ly lz ma eo bj\" id=\"5d76\">Doing that got me to topics like:</p>, <p class=\"pw-post-body-paragraph ld le ev lf b lg lh li lj lk ll lm ln lo lp lq lr ls lt lu lv lw lx ly lz ma eo bj\" id=\"d3cf\">Having someplace to start with all these questions, I hope, will give students a way to decode their work environments. Once we know about things like trust, influence, and persuasion, so many work interactions make more sense. Once we have a foundation in judgment and decision-making, the way towards consensus (or at least out of the logjam) on next quarter’s product roadmap gets much clearer. These examples (and many more like them) are the everyday meat of leadership, not the sexy stuff we read about and glorify.</p>, <p class=\"pw-post-body-paragraph ld le ev lf b lg os li lj lk ot lm ln lo ou lq lr ls ov lu lv lw ow ly lz ma eo bj\" id=\"3710\">Even with a firm foundation of knowledge, The Project is not straightforward. All the same things that separate bad research and stereotypes about research from high quality, rigorous research about users and customers apply.</p>, <p class=\"pw-post-body-paragraph ld le ev lf b lg lh li lj lk ll lm ln lo lp lq lr ls lt lu lv lw lx ly lz ma eo bj\" id=\"179e\">One needs to be thoughtful — because garbage in, garbage out. Throwing together a badly designed customer survey <em class=\"mb\">(NPS anyone?) </em>or asking users a bunch of random interview questions will generally be a waste of time. Good research requires rigor, time, and lots of thought. So does The Project.</p>, <p class=\"pw-post-body-paragraph ld le ev lf b lg lh li lj lk ll lm ln lo lp lq lr ls lt lu lv lw lx ly lz ma eo bj\" id=\"7726\">Listening is important — it’s one of the oldest saws of leadership. Great leaders listen and so should you. But it’s not enough for The Project. It’s not fair to rely on your colleagues to tell you exactly what they need or what you need to hear. Some people aren’t willing or able to answer direct questions with direct answers. It’s true of users, and it’s true of your colleagues too.</p>, <p class=\"pw-post-body-paragraph ld le ev lf b lg lh li lj lk ll lm ln lo lp lq lr ls lt lu lv lw lx ly lz ma eo bj\" id=\"b312\">You need to ask better questions, and do it without grilling people. Get beyond the superficial. In other words, get really good at research probes. The whys and the hows, the underlying ideas, values, and motivations. The things that are hard to say, but that you piece together by keenly observing patterns over time.</p>, <p class=\"pw-post-body-paragraph ld le ev lf b lg lh li lj lk ll lm ln lo lp lq lr ls lt lu lv lw lx ly lz ma eo bj\" id=\"0fe5\">The evidence comes from everywhere too. Words are powerful. What people say and how they say it. When people choose to speak. But also silence — the people who don’t speak and the things left unsaid. Learning to decode all that takes practice.</p>, <p class=\"pw-post-body-paragraph ld le ev lf b lg lh li lj lk ll lm ln lo lp lq lr ls lt lu lv lw lx ly lz ma eo bj\" id=\"656e\">Non-verbal communication often tells the story of collaboration. Bodies, faces, and voices reveal things that people didn’t know themselves. Often without those people knowing they’ve given it away. The Project requires us to be constantly observant (without being creepy).</p>, <p class=\"pw-post-body-paragraph ld le ev lf b lg lh li lj lk ll lm ln lo lp lq lr ls lt lu lv lw lx ly lz ma eo bj\" id=\"a26e\">The thing is, The Project is necessarily subtle. Charging around the office with a magnifying glass, interrogating your colleagues like some kind of idiot Sherlock Holmes is not going to work. The theory is, once you have a foundation of knowledge, you start to see the social dynamics everywhere. The Project becomes a part of all your daily interactions in small ways. And you become wildly more effective as a leader.</p>, <p class=\"pw-post-body-paragraph ld le ev lf b lg lh li lj lk ll lm ln lo lp lq lr ls lt lu lv lw lx ly lz ma eo bj\" id=\"2125\">If you’re in the research field, all this might be second nature to you. For others, it’s a new set of techniques to build. That is, if you knew you had to build them.</p>, <p class=\"pw-post-body-paragraph ld le ev lf b lg lh li lj lk ll lm ln lo lp lq lr ls lt lu lv lw lx ly lz ma eo bj\" id=\"2597\">When I started working as a leader, no one told me I was supposed to be doing it. No one explained that The Project is how good leadership really happens in practice. No one spelled out that the difference between good and bad leaders is often about how much of The Project they’re paying attention to.</p>, <p class=\"pw-post-body-paragraph ld le ev lf b lg os li lj lk ot lm ln lo ou lq lr ls ov lu lv lw ow ly lz ma eo bj\" id=\"968c\">Researchers should be great at this. Insights oriented designers, writers, data scientists, PMs, engineers… they should be great too. But I have found that for many (especially researchers) their gaze is too focused outwards. The idea that a good leader also needs to be focused inwards — on colleagues not just on customers — doesn’t come naturally. The Project doesn’t have a roadmap or OKRs, but it’s just as crucial to the succcess of the business.</p>, <p class=\"pw-post-body-paragraph ld le ev lf b lg lh li lj lk ll lm ln lo lp lq lr ls lt lu lv lw lx ly lz ma eo bj\" id=\"c2ab\">The thing is, great work rarely speaks for itself. Sorry — it doesn’t. To be successful you do have to do great work, but you also have to position that work for success. It has to show up in the right place, at the right time, and be aligned with the right people. It’s usually not something you did, at least not by yourself. It’s something you deftly guided a group of people towards.</p>, <p class=\"pw-post-body-paragraph ld le ev lf b lg lh li lj lk ll lm ln lo lp lq lr ls lt lu lv lw lx ly lz ma eo bj\" id=\"23ac\">To do all that well, you need The Project. Because as they say — if you want to go fast, go alone, but if you want to go far, go together.</p>, <p class=\"pw-post-body-paragraph ld le ev lf b lg lh li lj lk ll lm ln lo lp lq lr ls lt lu lv lw lx ly lz ma eo bj\" id=\"19d7\">I will share the course syllabus in a follow-up post soon, and I’ll write about the topics we discuss as the semester progresses.</p>, <p class=\"pw-post-body-paragraph ld le ev lf b lg lh li lj lk ll lm ln lo lp lq lr ls lt lu lv lw lx ly lz ma eo bj\" id=\"972f\">If you liked this, there’s more where that came from. Check out my newsletter <a class=\"af mc\" href=\"https://onebigthought.com/\" rel=\"noopener ugc nofollow\" target=\"_blank\">One Big Thought</a>. Sign up to get email updates <a class=\"af mc\" href=\"/@juddantin/subscribe\" rel=\"noopener\">here</a>. Send me an email at <a class=\"af mc\" href=\"mailto:judd@onebigthought.com\" rel=\"noopener ugc nofollow\" target=\"_blank\">judd@onebigthought.com</a>.</p>, <p class=\"be b kc z hb\"><span class=\"jm\">--</span></p>, <p class=\"be b kc z hb\"><span class=\"jm\">--</span></p>, <p class=\"be b bf z hb\"><span class=\"pw-responses-count kd ke\">39</span></p>, <p class=\"be b bf z hp hq hr hs ht hu hv hw bj\">One Big Thought</p>, <p class=\"be b bf z bj\">Consultant, advisor, writer, teacher on leadership, management, design, research, social psychology — Ex-Airbnb, Ex-Meta, Ex-Yahoo — <a class=\"af ag ah ai aj ak al am an ao ap aq ar mc ep\" href=\"https://juddantin.com\" rel=\"noopener ugc nofollow\">https://juddantin.com</a></p>, <p class=\"be b kc z hp hq hr hs ht hu hv hw bj\">Judd Antin</p>, <p class=\"be b kc z hb\">in</p>, <p class=\"be b kc z hp hq hr hs ht hu hv hw bj\">One Big Thought</p>, <p class=\"be b kc z hb\"><span class=\"jm\">--</span></p>, <p class=\"be b kc z hb\"><span class=\"pw-responses-count kd ke\">33</span></p>, <p class=\"be b kc z hp hq hr hs ht hu hv hw bj\">Judd Antin</p>, <p class=\"be b kc z hb\">in</p>, <p class=\"be b kc z hp hq hr hs ht hu hv hw bj\">One Big Thought</p>, <p class=\"be b kc z hb\"><span class=\"jm\">--</span></p>, <p class=\"be b kc z hb\"><span class=\"pw-responses-count kd ke\">7</span></p>, <p class=\"be b kc z hp hq hr hs ht hu hv hw bj\">Judd Antin</p>, <p class=\"be b kc z hb\">in</p>, <p class=\"be b kc z hp hq hr hs ht hu hv hw bj\">One Big Thought</p>, <p class=\"be b kc z hb\"><span class=\"jm\">--</span></p>, <p class=\"be b kc z hb\"><span class=\"pw-responses-count kd ke\">28</span></p>, <p class=\"be b kc z hp hq hr hs ht hu hv hw bj\">Judd Antin</p>, <p class=\"be b kc z hb\">in</p>, <p class=\"be b kc z hp hq hr hs ht hu hv hw bj\">One Big Thought</p>, <p class=\"be b kc z hb\"><span class=\"jm\">--</span></p>, <p class=\"be b kc z hb\"><span class=\"pw-responses-count kd ke\">45</span></p>, <p class=\"be b kc z hp hq hr hs ht hu hv hw bj\">Nick Hilton</p>, <p class=\"be b kc z hb\"><span class=\"jm\">--</span></p>, <p class=\"be b kc z hb\"><span class=\"pw-responses-count kd ke\">128</span></p>, <p class=\"be b kc z hp hq hr hs ht hu hv hw bj\">Nina Lazic</p>, <p class=\"be b kc z hb\"><span class=\"jm\">--</span></p>, <p class=\"be b kc z hb\"><span class=\"pw-responses-count kd ke\">5</span></p>, <p class=\"be b kc z hp hq hr hs ht hu hv hw bj\">Mirijam Missbichler</p>, <p class=\"be b kc z hb\"><span class=\"jm\">--</span></p>, <p class=\"be b kc z hb\"><span class=\"pw-responses-count kd ke\">152</span></p>, <p class=\"be b kc z hp hq hr hs ht hu hv hw bj\">AL Anany</p>, <p class=\"be b kc z hb\"><span class=\"jm\">--</span></p>, <p class=\"be b kc z hb\"><span class=\"pw-responses-count kd ke\">147</span></p>, <p class=\"be b kc z hp hq hr hs ht hu hv hw bj\">Hugh McGuire</p>, <p class=\"be b kc z hb\"><span class=\"jm\">--</span></p>, <p class=\"be b kc z hb\"><span class=\"pw-responses-count kd ke\">326</span></p>, <p class=\"be b kc z hp hq hr hs ht hu hv hw bj\">Julie Zhuo</p>, <p class=\"be b kc z hb\"><span class=\"jm\">--</span></p>, <p class=\"be b kc z hb\"><span class=\"pw-responses-count kd ke\">5</span></p>, <p class=\"be b kc z hb\">Help</p>, <p class=\"be b kc z hb\">Status</p>, <p class=\"be b kc z hb\">Writers</p>, <p class=\"be b kc z hb\">Blog</p>, <p class=\"be b kc z hb\">Careers</p>, <p class=\"be b kc z hb\">Privacy</p>, <p class=\"be b kc z hb\">Terms</p>, <p class=\"be b kc z hb\">About</p>, <p class=\"be b kc z hb\">Text to speech</p>, <p class=\"be b kc z hb\">Teams</p>]\n",
      "leadership-is-a-research-project-be0a2fda616f\n",
      "File saved in directory /Users/hau.nguyen2904/Documents/Education/AI-Course-GBC/Maching-Learning-1/in-CLASS-1/Homework/scraped_articles/leadership-is-a-research-project-be0a2fda616f.txt\n"
     ]
    }
   ],
   "source": [
    "if __name__ == '__main__':\n",
    "\ttext = collect_text(get_page())\n",
    "\tsave_file(text)"
   ]
  },
  {
   "cell_type": "code",
   "execution_count": null,
   "id": "5072219b",
   "metadata": {},
   "outputs": [],
   "source": []
  }
 ],
 "metadata": {
  "kernelspec": {
   "display_name": "Python 3 (ipykernel)",
   "language": "python",
   "name": "python3"
  },
  "language_info": {
   "codemirror_mode": {
    "name": "ipython",
    "version": 3
   },
   "file_extension": ".py",
   "mimetype": "text/x-python",
   "name": "python",
   "nbconvert_exporter": "python",
   "pygments_lexer": "ipython3",
   "version": "3.10.9"
  }
 },
 "nbformat": 4,
 "nbformat_minor": 5
}
